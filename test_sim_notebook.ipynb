{
 "cells": [
  {
   "cell_type": "code",
   "execution_count": 1,
   "outputs": [
    {
     "name": "stderr",
     "output_type": "stream",
     "text": [
      "INFO:drake:Meshcat listening for connections at http://localhost:7001\n"
     ]
    },
    {
     "data": {
      "text/plain": "<IPython.core.display.SVG object>",
      "image/svg+xml": "<svg xmlns=\"http://www.w3.org/2000/svg\" xmlns:xlink=\"http://www.w3.org/1999/xlink\" width=\"1410pt\" height=\"625pt\" viewBox=\"0.00 0.00 1410.00 625.00\">\n<g id=\"graph0\" class=\"graph\" transform=\"scale(1 1) rotate(0) translate(4 621)\">\n<title>_4695936384</title>\n<polygon fill=\"white\" stroke=\"none\" points=\"-4,4 -4,-621 1406,-621 1406,4 -4,4\"/>\n<g id=\"clust1\" class=\"cluster\">\n<title>cluster4695936384diagram</title>\n<polygon fill=\"none\" stroke=\"black\" points=\"8,-8 8,-609 1394,-609 1394,-8 8,-8\"/>\n<text text-anchor=\"middle\" x=\"701\" y=\"-593.8\" font-family=\"Times,serif\" font-size=\"14.00\">4695936384</text>\n</g>\n<g id=\"clust4\" class=\"cluster\">\n<title>cluster4695936384subsystems</title>\n<polygon fill=\"none\" stroke=\"white\" points=\"16,-16 16,-578 1386,-578 1386,-16 16,-16\"/>\n</g>\n<!-- 5930880864 -->\n<g id=\"node1\" class=\"node\">\n<title>5930880864</title>\n<polygon fill=\"none\" stroke=\"black\" points=\"24,-496.5 24,-565.5 466,-565.5 466,-496.5 24,-496.5\"/>\n<text text-anchor=\"middle\" x=\"245\" y=\"-550.3\" font-family=\"Times,serif\" font-size=\"14.00\">drake/geometry/SceneGraph@0000000161820f60</text>\n<polyline fill=\"none\" stroke=\"black\" points=\"24,-542.5 466,-542.5\"/>\n<text text-anchor=\"middle\" x=\"221.5\" y=\"-527.3\" font-family=\"Times,serif\" font-size=\"14.00\">drake/multibody/MultibodyPlant@00000001469d0e00_pose</text>\n<polyline fill=\"none\" stroke=\"black\" points=\"24,-519.5 419,-519.5\"/>\n<text text-anchor=\"middle\" x=\"221.5\" y=\"-504.3\" font-family=\"Times,serif\" font-size=\"14.00\">drake/multibody/MultibodyPlant@00000001469d0e00_configuration</text>\n<polyline fill=\"none\" stroke=\"black\" points=\"419,-496.5 419,-542.5\"/>\n<text text-anchor=\"middle\" x=\"442.5\" y=\"-515.8\" font-family=\"Times,serif\" font-size=\"14.00\">query</text>\n</g>\n<!-- 5479665152 -->\n<g id=\"node2\" class=\"node\">\n<title>5479665152</title>\n<polygon fill=\"none\" stroke=\"black\" points=\"502,-155 502,-569 989,-569 989,-155 502,-155\"/>\n<text text-anchor=\"middle\" x=\"745.5\" y=\"-553.8\" font-family=\"Times,serif\" font-size=\"14.00\">drake/multibody/MultibodyPlant@00000001469d0e00</text>\n<polyline fill=\"none\" stroke=\"black\" points=\"502,-546 989,-546\"/>\n<text text-anchor=\"middle\" x=\"599\" y=\"-514.8\" font-family=\"Times,serif\" font-size=\"14.00\">geometry_query</text>\n<polyline fill=\"none\" stroke=\"black\" points=\"502,-491 696,-491\"/>\n<text text-anchor=\"middle\" x=\"599\" y=\"-459.3\" font-family=\"Times,serif\" font-size=\"14.00\">WorldModelInstance_actuation</text>\n<polyline fill=\"none\" stroke=\"black\" points=\"502,-435 696,-435\"/>\n<text text-anchor=\"middle\" x=\"599\" y=\"-403.3\" font-family=\"Times,serif\" font-size=\"14.00\">DefaultModelInstance_actuation</text>\n<polyline fill=\"none\" stroke=\"black\" points=\"502,-379 696,-379\"/>\n<text text-anchor=\"middle\" x=\"599\" y=\"-347.3\" font-family=\"Times,serif\" font-size=\"14.00\">arm_actuation</text>\n<polyline fill=\"none\" stroke=\"black\" points=\"502,-323 696,-323\"/>\n<text text-anchor=\"middle\" x=\"599\" y=\"-291.3\" font-family=\"Times,serif\" font-size=\"14.00\">actuation</text>\n<polyline fill=\"none\" stroke=\"black\" points=\"502,-267 696,-267\"/>\n<text text-anchor=\"middle\" x=\"599\" y=\"-235.3\" font-family=\"Times,serif\" font-size=\"14.00\">applied_generalized_force</text>\n<polyline fill=\"none\" stroke=\"black\" points=\"502,-211 696,-211\"/>\n<text text-anchor=\"middle\" x=\"599\" y=\"-179.8\" font-family=\"Times,serif\" font-size=\"14.00\">applied_spatial_force</text>\n<polyline fill=\"none\" stroke=\"black\" points=\"696,-155 696,-546\"/>\n<text text-anchor=\"middle\" x=\"842.5\" y=\"-530.8\" font-family=\"Times,serif\" font-size=\"14.00\">geometry_pose</text>\n<polyline fill=\"none\" stroke=\"black\" points=\"696,-523 989,-523\"/>\n<text text-anchor=\"middle\" x=\"842.5\" y=\"-507.8\" font-family=\"Times,serif\" font-size=\"14.00\">continuous_state</text>\n<polyline fill=\"none\" stroke=\"black\" points=\"696,-500 989,-500\"/>\n<text text-anchor=\"middle\" x=\"842.5\" y=\"-484.8\" font-family=\"Times,serif\" font-size=\"14.00\">body_poses</text>\n<polyline fill=\"none\" stroke=\"black\" points=\"696,-477 989,-477\"/>\n<text text-anchor=\"middle\" x=\"842.5\" y=\"-461.8\" font-family=\"Times,serif\" font-size=\"14.00\">spatial_velocities</text>\n<polyline fill=\"none\" stroke=\"black\" points=\"696,-454 989,-454\"/>\n<text text-anchor=\"middle\" x=\"842.5\" y=\"-438.8\" font-family=\"Times,serif\" font-size=\"14.00\">spatial_accelerations</text>\n<polyline fill=\"none\" stroke=\"black\" points=\"696,-431 989,-431\"/>\n<text text-anchor=\"middle\" x=\"842.5\" y=\"-415.8\" font-family=\"Times,serif\" font-size=\"14.00\">generalized_acceleration</text>\n<polyline fill=\"none\" stroke=\"black\" points=\"696,-408 989,-408\"/>\n<text text-anchor=\"middle\" x=\"842.5\" y=\"-392.8\" font-family=\"Times,serif\" font-size=\"14.00\">WorldModelInstance_continuous_state</text>\n<polyline fill=\"none\" stroke=\"black\" points=\"696,-385 989,-385\"/>\n<text text-anchor=\"middle\" x=\"842.5\" y=\"-369.8\" font-family=\"Times,serif\" font-size=\"14.00\">WorldModelInstance_generalized_acceleration</text>\n<polyline fill=\"none\" stroke=\"black\" points=\"696,-362 989,-362\"/>\n<text text-anchor=\"middle\" x=\"842.5\" y=\"-346.8\" font-family=\"Times,serif\" font-size=\"14.00\">DefaultModelInstance_continuous_state</text>\n<polyline fill=\"none\" stroke=\"black\" points=\"696,-339 989,-339\"/>\n<text text-anchor=\"middle\" x=\"842.5\" y=\"-323.8\" font-family=\"Times,serif\" font-size=\"14.00\">DefaultModelInstance_generalized_acceleration</text>\n<polyline fill=\"none\" stroke=\"black\" points=\"696,-316 989,-316\"/>\n<text text-anchor=\"middle\" x=\"842.5\" y=\"-300.8\" font-family=\"Times,serif\" font-size=\"14.00\">arm_continuous_state</text>\n<polyline fill=\"none\" stroke=\"black\" points=\"696,-293 989,-293\"/>\n<text text-anchor=\"middle\" x=\"842.5\" y=\"-277.8\" font-family=\"Times,serif\" font-size=\"14.00\">arm_generalized_acceleration</text>\n<polyline fill=\"none\" stroke=\"black\" points=\"696,-270 989,-270\"/>\n<text text-anchor=\"middle\" x=\"842.5\" y=\"-254.8\" font-family=\"Times,serif\" font-size=\"14.00\">WorldModelInstance_generalized_contact_forces</text>\n<polyline fill=\"none\" stroke=\"black\" points=\"696,-247 989,-247\"/>\n<text text-anchor=\"middle\" x=\"842.5\" y=\"-231.8\" font-family=\"Times,serif\" font-size=\"14.00\">DefaultModelInstance_generalized_contact_forces</text>\n<polyline fill=\"none\" stroke=\"black\" points=\"696,-224 989,-224\"/>\n<text text-anchor=\"middle\" x=\"842.5\" y=\"-208.8\" font-family=\"Times,serif\" font-size=\"14.00\">arm_generalized_contact_forces</text>\n<polyline fill=\"none\" stroke=\"black\" points=\"696,-201 989,-201\"/>\n<text text-anchor=\"middle\" x=\"842.5\" y=\"-185.8\" font-family=\"Times,serif\" font-size=\"14.00\">reaction_forces</text>\n<polyline fill=\"none\" stroke=\"black\" points=\"696,-178 989,-178\"/>\n<text text-anchor=\"middle\" x=\"842.5\" y=\"-162.8\" font-family=\"Times,serif\" font-size=\"14.00\">contact_results</text>\n</g>\n<!-- 5930880864&#45;&gt;5479665152 -->\n<g id=\"edge4\" class=\"edge\">\n<title>5930880864:y0-&gt;5479665152:u0</title>\n<path fill=\"none\" stroke=\"black\" d=\"M466,-519C477.38,-519 482.68,-519 490.55,-519\"/>\n<polygon fill=\"black\" stroke=\"black\" points=\"490.49,-522.5 500.49,-519 490.49,-515.5 490.49,-522.5\"/>\n</g>\n<!-- 4695937232 -->\n<g id=\"node5\" class=\"node\">\n<title>4695937232</title>\n<polygon fill=\"none\" stroke=\"black\" points=\"582,-90 582,-136 909,-136 909,-90 582,-90\"/>\n<text text-anchor=\"middle\" x=\"745.5\" y=\"-120.8\" font-family=\"Times,serif\" font-size=\"14.00\">drake/geometry/MeshcatVisualizer@0000000117e650d0</text>\n<polyline fill=\"none\" stroke=\"black\" points=\"582,-113 909,-113\"/>\n<text text-anchor=\"middle\" x=\"680.5\" y=\"-97.8\" font-family=\"Times,serif\" font-size=\"14.00\">query_object</text>\n<polyline fill=\"none\" stroke=\"black\" points=\"779,-90 779,-113\"/>\n<text text-anchor=\"middle\" x=\"844\" y=\"-97.8\" font-family=\"Times,serif\" font-size=\"14.00\"> </text>\n</g>\n<!-- 5930880864&#45;&gt;4695937232 -->\n<g id=\"edge3\" class=\"edge\">\n<title>5930880864:y0-&gt;4695937232:u0</title>\n<path fill=\"none\" stroke=\"black\" d=\"M443,-495C443,-455.67 479.51,-178.26 502,-146 522.75,-116.23 537.23,-103.55 569.4,-101.35\"/>\n<polygon fill=\"black\" stroke=\"black\" points=\"569.1,-104.86 578.99,-101.05 568.88,-97.87 569.1,-104.86\"/>\n</g>\n<!-- 5479665152&#45;&gt;5930880864 -->\n<g id=\"edge6\" class=\"edge\">\n<title>5479665152:y0-&gt;5930880864:u0</title>\n<path fill=\"none\" stroke=\"black\" d=\"M990.5,-535C1005.84,-535 1000.5,-558.81 989.5,-569.5 911.79,-644.99 610.33,-569.9 502,-569.5 395.78,-569.11 99.91,-640.31 24,-566 16.62,-558.77 11.74,-545.71 13.85,-537.75\"/>\n<polygon fill=\"black\" stroke=\"black\" points=\"15.81,-540.65 21.78,-531.9 11.66,-535.02 15.81,-540.65\"/>\n</g>\n<!-- 4695934320 -->\n<g id=\"node3\" class=\"node\">\n<title>4695934320</title>\n<polygon fill=\"none\" stroke=\"black\" points=\"1025,-272.5 1025,-341.5 1378,-341.5 1378,-272.5 1025,-272.5\"/>\n<text text-anchor=\"middle\" x=\"1201.5\" y=\"-326.3\" font-family=\"Times,serif\" font-size=\"14.00\">drake/systems/controllers/PidController@0000000117e64570</text>\n<polyline fill=\"none\" stroke=\"black\" points=\"1025,-318.5 1378,-318.5\"/>\n<text text-anchor=\"middle\" x=\"1116.5\" y=\"-303.3\" font-family=\"Times,serif\" font-size=\"14.00\">x</text>\n<polyline fill=\"none\" stroke=\"black\" points=\"1025,-295.5 1208,-295.5\"/>\n<text text-anchor=\"middle\" x=\"1116.5\" y=\"-280.3\" font-family=\"Times,serif\" font-size=\"14.00\">x_d</text>\n<polyline fill=\"none\" stroke=\"black\" points=\"1208,-272.5 1208,-318.5\"/>\n<text text-anchor=\"middle\" x=\"1293\" y=\"-291.8\" font-family=\"Times,serif\" font-size=\"14.00\">y</text>\n</g>\n<!-- 5479665152&#45;&gt;4695934320 -->\n<g id=\"edge1\" class=\"edge\">\n<title>5479665152:y1-&gt;4695934320:u0</title>\n<path fill=\"none\" stroke=\"black\" d=\"M989,-512C1077.35,-512 945.39,-325 1013.95,-308.2\"/>\n<polygon fill=\"black\" stroke=\"black\" points=\"1013.93,-311.73 1023.5,-307.16 1013.18,-304.77 1013.93,-311.73\"/>\n</g>\n<!-- 4695934320&#45;&gt;5479665152 -->\n<g id=\"edge5\" class=\"edge\">\n<title>4695934320:y0-&gt;5479665152:u4</title>\n<path fill=\"none\" stroke=\"black\" d=\"M1293.5,-271C1293.5,-126.1 1131.49,-180.83 989,-154.5 975.68,-152.04 511.11,-144.96 501.5,-154.5 492.24,-163.7 486.85,-255.7 494.45,-285.64\"/>\n<polygon fill=\"black\" stroke=\"black\" points=\"491.31,-287.23 499.68,-293.73 497.19,-283.43 491.31,-287.23\"/>\n</g>\n<!-- 4695935696 -->\n<g id=\"node4\" class=\"node\">\n<title>4695935696</title>\n<polygon fill=\"none\" stroke=\"black\" points=\"576.5,-25 576.5,-71 914.5,-71 914.5,-25 576.5,-25\"/>\n<text text-anchor=\"middle\" x=\"745.5\" y=\"-55.8\" font-family=\"Times,serif\" font-size=\"14.00\">drake/systems/ConstantVectorSource@0000000117e64ad0</text>\n<polyline fill=\"none\" stroke=\"black\" points=\"576.5,-48 914.5,-48\"/>\n<text text-anchor=\"middle\" x=\"658.5\" y=\"-32.8\" font-family=\"Times,serif\" font-size=\"14.00\"> </text>\n<polyline fill=\"none\" stroke=\"black\" points=\"740.5,-25 740.5,-48\"/>\n<text text-anchor=\"middle\" x=\"827.5\" y=\"-32.8\" font-family=\"Times,serif\" font-size=\"14.00\">y0</text>\n</g>\n<!-- 4695935696&#45;&gt;4695934320 -->\n<g id=\"edge2\" class=\"edge\">\n<title>4695935696:y0-&gt;4695934320:u1</title>\n<path fill=\"none\" stroke=\"black\" d=\"M915.5,-36C953.8,-36 967.42,-49.35 989,-81 1012.49,-115.45 985.09,-255.35 1014.52,-280.21\"/>\n<polygon fill=\"black\" stroke=\"black\" points=\"1012.98,-283.38 1023.58,-283.49 1015.36,-276.8 1012.98,-283.38\"/>\n</g>\n<!-- \\n -->\n<g id=\"node6\" class=\"node\">\n<title>\\n</title>\n<ellipse fill=\"none\" stroke=\"black\" cx=\"245\" cy=\"-251\" rx=\"27\" ry=\"18\"/>\n</g>\n</g>\n</svg>"
     },
     "metadata": {},
     "output_type": "display_data"
    }
   ],
   "source": [
    "import pydot\n",
    "from IPython.core.display import SVG\n",
    "from IPython.core.display_functions import display\n",
    "from pydrake.all import Simulator, DiagramBuilder, AddMultibodyPlantSceneGraph,\\\n",
    "                        Parser, RigidTransform, MeshcatVisualizer, MeshcatVisualizerParams, \\\n",
    "                        ConstantVectorSource, ConstantValueSource, PiecewisePolynomial,\\\n",
    "                        AbstractValue, HalfSpace, CoulombFriction, SceneGraph, MultibodyPlant, AutoDiffXd, StartMeshcat\n",
    "from pydrake.systems.controllers import PidController\n",
    "import numpy as np\n",
    "\n",
    "target_realtime_rate = 1.0\n",
    "simulation_time = 10\n",
    "max_time_step = 10e-3\n",
    "Kp_ = 10.0\n",
    "Ki_ = 20.0\n",
    "Kd_ = 30.0\n",
    "\n",
    "def controller():\n",
    "\n",
    "    meshcat = StartMeshcat()\n",
    "\n",
    "    builder = DiagramBuilder()\n",
    "    plant, scene_graph = AddMultibodyPlantSceneGraph(builder, max_time_step)\n",
    "    parser = Parser(plant)\n",
    "    parser.AddModelFromFile(\"arm.urdf\")\n",
    "    plant.WeldFrames(\n",
    "        plant.world_frame(),\n",
    "        plant.GetBodyByName(\"base_z\").body_frame(),\n",
    "        RigidTransform.Identity()\n",
    "    )\n",
    "    plant.AddJointActuator(\"base\", plant.GetJointByName(\"base\"))\n",
    "    plant.AddJointActuator(\"shoulder\", plant.GetJointByName(\"shoulder\"))\n",
    "    plant.AddJointActuator(\"elbow\", plant.GetJointByName(\"elbow\"))\n",
    "\n",
    "    plant.Finalize()\n",
    "\n",
    "    Kp = np.ones(plant.num_positions()) * Kp_\n",
    "    Ki = np.ones(plant.num_positions()) * Ki_\n",
    "    Kd = np.ones(plant.num_positions()) * Kd_\n",
    "\n",
    "    pid = builder.AddSystem(PidController(Kp, Ki, Kd))\n",
    "\n",
    "    builder.Connect(plant.get_state_output_port(), pid.get_input_port_estimated_state())\n",
    "\n",
    "    builder.Connect(pid.get_output_port_control(), plant.get_actuation_input_port())\n",
    "\n",
    "    desired_base_source = builder.AddSystem(ConstantVectorSource(np.zeros(plant.num_multibody_states())))\n",
    "    builder.Connect(desired_base_source.get_output_port(), pid.get_input_port_desired_state())\n",
    "\n",
    "\n",
    "    # Handled by pydrake\n",
    "    # id = plant.get_source_id()\n",
    "    #\n",
    "    # builder.Connect(plant.get_geometry_poses_output_port(), scene_graph.get_source_pose_port(id))\n",
    "    # builder.Connect(scene_graph.get_query_output_port(), plant.get_geometry_query_input_port())\n",
    "\n",
    "    vis_params = MeshcatVisualizerParams(publish_period=0.1)\n",
    "    MeshcatVisualizer.AddToBuilder(builder, scene_graph, meshcat, params=vis_params)\n",
    "\n",
    "    diagram = builder.Build()\n",
    "    display(SVG(pydot.graph_from_dot_data(\n",
    "        diagram.GetGraphvizString(max_depth=2))[0].create_svg()))\n",
    "    diagram_context = diagram.CreateDefaultContext()\n",
    "\n",
    "    plant_context = diagram.GetMutableSubsystemContext(plant, diagram_context)\n",
    "\n",
    "    positions = np.zeros((plant.num_positions(), 2))\n",
    "\n",
    "    positions[0] = [0, 10]\n",
    "    positions[1] = [0, 20]\n",
    "    positions[2] = [0, 30]\n",
    "\n",
    "    plant.SetPositions(plant_context, positions)\n",
    "\n",
    "    simulator = Simulator(diagram)\n",
    "    simulator.Initialize()\n",
    "    simulator.set_target_realtime_rate(target_realtime_rate)\n",
    "    simulator.set_publish_every_time_step(True)\n",
    "\n",
    "    simulator.AdvanceTo(simulation_time)\n",
    "\n",
    "if __name__ == \"__main__\":\n",
    "    controller()\n"
   ],
   "metadata": {
    "collapsed": false
   }
  }
 ],
 "metadata": {
  "kernelspec": {
   "display_name": "Python 3",
   "language": "python",
   "name": "python3"
  },
  "language_info": {
   "codemirror_mode": {
    "name": "ipython",
    "version": 2
   },
   "file_extension": ".py",
   "mimetype": "text/x-python",
   "name": "python",
   "nbconvert_exporter": "python",
   "pygments_lexer": "ipython2",
   "version": "2.7.6"
  }
 },
 "nbformat": 4,
 "nbformat_minor": 0
}
