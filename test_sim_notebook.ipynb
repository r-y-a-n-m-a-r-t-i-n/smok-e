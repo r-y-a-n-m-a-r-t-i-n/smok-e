{
 "cells": [
  {
   "cell_type": "code",
   "execution_count": 5,
   "outputs": [
    {
     "name": "stderr",
     "output_type": "stream",
     "text": [
      "INFO:drake:Meshcat listening for connections at http://localhost:7005\n"
     ]
    },
    {
     "data": {
      "text/plain": "<IPython.core.display.SVG object>",
      "image/svg+xml": "<svg xmlns=\"http://www.w3.org/2000/svg\" xmlns:xlink=\"http://www.w3.org/1999/xlink\" width=\"1296pt\" height=\"614pt\" viewBox=\"0.00 0.00 1296.00 614.00\">\n<g id=\"graph0\" class=\"graph\" transform=\"scale(1 1) rotate(0) translate(4 610)\">\n<title>_5917144320</title>\n<polygon fill=\"white\" stroke=\"none\" points=\"-4,4 -4,-610 1292,-610 1292,4 -4,4\"/>\n<g id=\"clust1\" class=\"cluster\">\n<title>cluster5917144320diagram</title>\n<polygon fill=\"none\" stroke=\"black\" points=\"8,-8 8,-598 1280,-598 1280,-8 8,-8\"/>\n<text text-anchor=\"middle\" x=\"644\" y=\"-582.8\" font-family=\"Times,serif\" font-size=\"14.00\">5917144320</text>\n</g>\n<g id=\"clust4\" class=\"cluster\">\n<title>cluster5917144320subsystems</title>\n<polygon fill=\"none\" stroke=\"white\" points=\"16,-16 16,-567 1272,-567 1272,-16 16,-16\"/>\n</g>\n<!-- 4364224512 -->\n<g id=\"node1\" class=\"node\">\n<title>4364224512</title>\n<polygon fill=\"none\" stroke=\"black\" points=\"24,-144 24,-558 511,-558 511,-144 24,-144\"/>\n<text text-anchor=\"middle\" x=\"267.5\" y=\"-542.8\" font-family=\"Times,serif\" font-size=\"14.00\">plant</text>\n<polyline fill=\"none\" stroke=\"black\" points=\"24,-535 511,-535\"/>\n<text text-anchor=\"middle\" x=\"121\" y=\"-503.8\" font-family=\"Times,serif\" font-size=\"14.00\">geometry_query</text>\n<polyline fill=\"none\" stroke=\"black\" points=\"24,-480 218,-480\"/>\n<text text-anchor=\"middle\" x=\"121\" y=\"-448.3\" font-family=\"Times,serif\" font-size=\"14.00\">WorldModelInstance_actuation</text>\n<polyline fill=\"none\" stroke=\"black\" points=\"24,-424 218,-424\"/>\n<text text-anchor=\"middle\" x=\"121\" y=\"-392.3\" font-family=\"Times,serif\" font-size=\"14.00\">DefaultModelInstance_actuation</text>\n<polyline fill=\"none\" stroke=\"black\" points=\"24,-368 218,-368\"/>\n<text text-anchor=\"middle\" x=\"121\" y=\"-336.3\" font-family=\"Times,serif\" font-size=\"14.00\">arm_actuation</text>\n<polyline fill=\"none\" stroke=\"black\" points=\"24,-312 218,-312\"/>\n<text text-anchor=\"middle\" x=\"121\" y=\"-280.3\" font-family=\"Times,serif\" font-size=\"14.00\">actuation</text>\n<polyline fill=\"none\" stroke=\"black\" points=\"24,-256 218,-256\"/>\n<text text-anchor=\"middle\" x=\"121\" y=\"-224.3\" font-family=\"Times,serif\" font-size=\"14.00\">applied_generalized_force</text>\n<polyline fill=\"none\" stroke=\"black\" points=\"24,-200 218,-200\"/>\n<text text-anchor=\"middle\" x=\"121\" y=\"-168.8\" font-family=\"Times,serif\" font-size=\"14.00\">applied_spatial_force</text>\n<polyline fill=\"none\" stroke=\"black\" points=\"218,-144 218,-535\"/>\n<text text-anchor=\"middle\" x=\"364.5\" y=\"-519.8\" font-family=\"Times,serif\" font-size=\"14.00\">geometry_pose</text>\n<polyline fill=\"none\" stroke=\"black\" points=\"218,-512 511,-512\"/>\n<text text-anchor=\"middle\" x=\"364.5\" y=\"-496.8\" font-family=\"Times,serif\" font-size=\"14.00\">continuous_state</text>\n<polyline fill=\"none\" stroke=\"black\" points=\"218,-489 511,-489\"/>\n<text text-anchor=\"middle\" x=\"364.5\" y=\"-473.8\" font-family=\"Times,serif\" font-size=\"14.00\">body_poses</text>\n<polyline fill=\"none\" stroke=\"black\" points=\"218,-466 511,-466\"/>\n<text text-anchor=\"middle\" x=\"364.5\" y=\"-450.8\" font-family=\"Times,serif\" font-size=\"14.00\">spatial_velocities</text>\n<polyline fill=\"none\" stroke=\"black\" points=\"218,-443 511,-443\"/>\n<text text-anchor=\"middle\" x=\"364.5\" y=\"-427.8\" font-family=\"Times,serif\" font-size=\"14.00\">spatial_accelerations</text>\n<polyline fill=\"none\" stroke=\"black\" points=\"218,-420 511,-420\"/>\n<text text-anchor=\"middle\" x=\"364.5\" y=\"-404.8\" font-family=\"Times,serif\" font-size=\"14.00\">generalized_acceleration</text>\n<polyline fill=\"none\" stroke=\"black\" points=\"218,-397 511,-397\"/>\n<text text-anchor=\"middle\" x=\"364.5\" y=\"-381.8\" font-family=\"Times,serif\" font-size=\"14.00\">WorldModelInstance_continuous_state</text>\n<polyline fill=\"none\" stroke=\"black\" points=\"218,-374 511,-374\"/>\n<text text-anchor=\"middle\" x=\"364.5\" y=\"-358.8\" font-family=\"Times,serif\" font-size=\"14.00\">WorldModelInstance_generalized_acceleration</text>\n<polyline fill=\"none\" stroke=\"black\" points=\"218,-351 511,-351\"/>\n<text text-anchor=\"middle\" x=\"364.5\" y=\"-335.8\" font-family=\"Times,serif\" font-size=\"14.00\">DefaultModelInstance_continuous_state</text>\n<polyline fill=\"none\" stroke=\"black\" points=\"218,-328 511,-328\"/>\n<text text-anchor=\"middle\" x=\"364.5\" y=\"-312.8\" font-family=\"Times,serif\" font-size=\"14.00\">DefaultModelInstance_generalized_acceleration</text>\n<polyline fill=\"none\" stroke=\"black\" points=\"218,-305 511,-305\"/>\n<text text-anchor=\"middle\" x=\"364.5\" y=\"-289.8\" font-family=\"Times,serif\" font-size=\"14.00\">arm_continuous_state</text>\n<polyline fill=\"none\" stroke=\"black\" points=\"218,-282 511,-282\"/>\n<text text-anchor=\"middle\" x=\"364.5\" y=\"-266.8\" font-family=\"Times,serif\" font-size=\"14.00\">arm_generalized_acceleration</text>\n<polyline fill=\"none\" stroke=\"black\" points=\"218,-259 511,-259\"/>\n<text text-anchor=\"middle\" x=\"364.5\" y=\"-243.8\" font-family=\"Times,serif\" font-size=\"14.00\">WorldModelInstance_generalized_contact_forces</text>\n<polyline fill=\"none\" stroke=\"black\" points=\"218,-236 511,-236\"/>\n<text text-anchor=\"middle\" x=\"364.5\" y=\"-220.8\" font-family=\"Times,serif\" font-size=\"14.00\">DefaultModelInstance_generalized_contact_forces</text>\n<polyline fill=\"none\" stroke=\"black\" points=\"218,-213 511,-213\"/>\n<text text-anchor=\"middle\" x=\"364.5\" y=\"-197.8\" font-family=\"Times,serif\" font-size=\"14.00\">arm_generalized_contact_forces</text>\n<polyline fill=\"none\" stroke=\"black\" points=\"218,-190 511,-190\"/>\n<text text-anchor=\"middle\" x=\"364.5\" y=\"-174.8\" font-family=\"Times,serif\" font-size=\"14.00\">reaction_forces</text>\n<polyline fill=\"none\" stroke=\"black\" points=\"218,-167 511,-167\"/>\n<text text-anchor=\"middle\" x=\"364.5\" y=\"-151.8\" font-family=\"Times,serif\" font-size=\"14.00\">contact_results</text>\n</g>\n<!-- 5217317280 -->\n<g id=\"node2\" class=\"node\">\n<title>5217317280</title>\n<polygon fill=\"none\" stroke=\"black\" points=\"638.5,-487.5 638.5,-556.5 808.5,-556.5 808.5,-487.5 638.5,-487.5\"/>\n<text text-anchor=\"middle\" x=\"723.5\" y=\"-541.3\" font-family=\"Times,serif\" font-size=\"14.00\">scene_graph</text>\n<polyline fill=\"none\" stroke=\"black\" points=\"638.5,-533.5 808.5,-533.5\"/>\n<text text-anchor=\"middle\" x=\"700\" y=\"-518.3\" font-family=\"Times,serif\" font-size=\"14.00\">plant_pose</text>\n<polyline fill=\"none\" stroke=\"black\" points=\"638.5,-510.5 761.5,-510.5\"/>\n<text text-anchor=\"middle\" x=\"700\" y=\"-495.3\" font-family=\"Times,serif\" font-size=\"14.00\">plant_configuration</text>\n<polyline fill=\"none\" stroke=\"black\" points=\"761.5,-487.5 761.5,-533.5\"/>\n<text text-anchor=\"middle\" x=\"785\" y=\"-506.8\" font-family=\"Times,serif\" font-size=\"14.00\">query</text>\n</g>\n<!-- 4364224512&#45;&gt;5217317280 -->\n<g id=\"edge3\" class=\"edge\">\n<title>4364224512:y0-&gt;5217317280:u0</title>\n<path fill=\"none\" stroke=\"black\" d=\"M511,-524C563.28,-524 579.09,-522.27 626.24,-522.03\"/>\n<polygon fill=\"black\" stroke=\"black\" points=\"626,-525.53 635.99,-522 625.98,-518.53 626,-525.53\"/>\n</g>\n<!-- 5917141936 -->\n<g id=\"node3\" class=\"node\">\n<title>5917141936</title>\n<polygon fill=\"none\" stroke=\"black\" points=\"547,-261.5 547,-330.5 900,-330.5 900,-261.5 547,-261.5\"/>\n<text text-anchor=\"middle\" x=\"723.5\" y=\"-315.3\" font-family=\"Times,serif\" font-size=\"14.00\">drake/systems/controllers/PidController@0000000160b06bb0</text>\n<polyline fill=\"none\" stroke=\"black\" points=\"547,-307.5 900,-307.5\"/>\n<text text-anchor=\"middle\" x=\"638.5\" y=\"-292.3\" font-family=\"Times,serif\" font-size=\"14.00\">x</text>\n<polyline fill=\"none\" stroke=\"black\" points=\"547,-284.5 730,-284.5\"/>\n<text text-anchor=\"middle\" x=\"638.5\" y=\"-269.3\" font-family=\"Times,serif\" font-size=\"14.00\">x_d</text>\n<polyline fill=\"none\" stroke=\"black\" points=\"730,-261.5 730,-307.5\"/>\n<text text-anchor=\"middle\" x=\"815\" y=\"-280.8\" font-family=\"Times,serif\" font-size=\"14.00\">y</text>\n</g>\n<!-- 4364224512&#45;&gt;5917141936 -->\n<g id=\"edge4\" class=\"edge\">\n<title>4364224512:y1-&gt;5917141936:u0</title>\n<path fill=\"none\" stroke=\"black\" d=\"M511,-501C599.35,-501 467.39,-314 535.95,-297.2\"/>\n<polygon fill=\"black\" stroke=\"black\" points=\"535.93,-300.73 545.5,-296.16 535.18,-293.77 535.93,-300.73\"/>\n</g>\n<!-- 5217317280&#45;&gt;4364224512 -->\n<g id=\"edge1\" class=\"edge\">\n<title>5217317280:y0-&gt;4364224512:u0</title>\n<path fill=\"none\" stroke=\"black\" d=\"M785.5,-486C785.5,-420.67 701.66,-470.27 638.5,-487 575.7,-503.64 573.86,-542.08 511,-558.5 406.18,-585.88 100.86,-634.34 23.5,-558.5 10.85,-546.1 3.56,-521.83 12.08,-512.14\"/>\n<polygon fill=\"black\" stroke=\"black\" points=\"13.09,-515.5 21.09,-508.56 10.51,-509 13.09,-515.5\"/>\n</g>\n<!-- 5917143424 -->\n<g id=\"node5\" class=\"node\">\n<title>5917143424</title>\n<polygon fill=\"none\" stroke=\"black\" points=\"936,-499 936,-545 1264,-545 1264,-499 936,-499\"/>\n<text text-anchor=\"middle\" x=\"1100\" y=\"-529.8\" font-family=\"Times,serif\" font-size=\"14.00\">drake/geometry/MeshcatVisualizer@0000000160b07180</text>\n<polyline fill=\"none\" stroke=\"black\" points=\"936,-522 1264,-522\"/>\n<text text-anchor=\"middle\" x=\"1034.5\" y=\"-506.8\" font-family=\"Times,serif\" font-size=\"14.00\">query_object</text>\n<polyline fill=\"none\" stroke=\"black\" points=\"1133,-499 1133,-522\"/>\n<text text-anchor=\"middle\" x=\"1198.5\" y=\"-506.8\" font-family=\"Times,serif\" font-size=\"14.00\"> </text>\n</g>\n<!-- 5217317280&#45;&gt;5917143424 -->\n<g id=\"edge6\" class=\"edge\">\n<title>5217317280:y0-&gt;5917143424:u0</title>\n<path fill=\"none\" stroke=\"black\" d=\"M809.5,-510C861.77,-510 877.59,-510 924.74,-510\"/>\n<polygon fill=\"black\" stroke=\"black\" points=\"924.49,-513.5 934.49,-510 924.49,-506.5 924.49,-513.5\"/>\n</g>\n<!-- 5917141936&#45;&gt;4364224512 -->\n<g id=\"edge2\" class=\"edge\">\n<title>5917141936:y0-&gt;4364224512:u4</title>\n<path fill=\"none\" stroke=\"black\" d=\"M815.5,-260C815.5,-115.1 653.49,-169.83 511,-143.5 497.68,-141.04 33.11,-133.96 23.5,-143.5 14.24,-152.7 8.85,-244.7 16.45,-274.64\"/>\n<polygon fill=\"black\" stroke=\"black\" points=\"13.31,-276.23 21.68,-282.73 19.19,-272.43 13.31,-276.23\"/>\n</g>\n<!-- 5917142736 -->\n<g id=\"node4\" class=\"node\">\n<title>5917142736</title>\n<polygon fill=\"none\" stroke=\"black\" points=\"98.5,-79 98.5,-125 436.5,-125 436.5,-79 98.5,-79\"/>\n<text text-anchor=\"middle\" x=\"267.5\" y=\"-109.8\" font-family=\"Times,serif\" font-size=\"14.00\">drake/systems/ConstantVectorSource@0000000160b06ed0</text>\n<polyline fill=\"none\" stroke=\"black\" points=\"98.5,-102 436.5,-102\"/>\n<text text-anchor=\"middle\" x=\"180.5\" y=\"-86.8\" font-family=\"Times,serif\" font-size=\"14.00\"> </text>\n<polyline fill=\"none\" stroke=\"black\" points=\"262.5,-79 262.5,-102\"/>\n<text text-anchor=\"middle\" x=\"349.5\" y=\"-86.8\" font-family=\"Times,serif\" font-size=\"14.00\">y0</text>\n</g>\n<!-- 5917142736&#45;&gt;5917141936 -->\n<g id=\"edge5\" class=\"edge\">\n<title>5917142736:y0-&gt;5917141936:u1</title>\n<path fill=\"none\" stroke=\"black\" d=\"M437.5,-90C475.8,-90 488.18,-104.24 511,-135 546.19,-182.43 492.04,-261.26 535.73,-271.82\"/>\n<polygon fill=\"black\" stroke=\"black\" points=\"535.18,-275.28 545.49,-272.84 535.91,-268.32 535.18,-275.28\"/>\n</g>\n<!-- \\n -->\n<g id=\"node6\" class=\"node\">\n<title>\\n</title>\n<ellipse fill=\"none\" stroke=\"black\" cx=\"267.5\" cy=\"-42\" rx=\"27\" ry=\"18\"/>\n</g>\n</g>\n</svg>"
     },
     "metadata": {},
     "output_type": "display_data"
    },
    {
     "ename": "TypeError",
     "evalue": "SetPositions(): incompatible function arguments. The following argument types are supported:\n    1. (self: pydrake.multibody.plant.MultibodyPlant_[float], context: pydrake.systems.framework.Context_[float], q: numpy.ndarray[numpy.float64[m, 1]]) -> None\n    2. (self: pydrake.multibody.plant.MultibodyPlant_[float], context: pydrake.systems.framework.Context_[float], model_instance: pydrake.multibody.tree.ModelInstanceIndex, q: numpy.ndarray[numpy.float64[m, 1]]) -> None\n\nInvoked with: <pydrake.multibody.plant.MultibodyPlant_[float] object at 0x15fbd9230>, <pydrake.systems.framework.LeafContext_[float] object at 0x1609f70b0>, array([[ 0., 10.],\n       [ 0., 20.],\n       [ 0., 30.]])",
     "output_type": "error",
     "traceback": [
      "\u001B[0;31m---------------------------------------------------------------------------\u001B[0m",
      "\u001B[0;31mTypeError\u001B[0m                                 Traceback (most recent call last)",
      "Cell \u001B[0;32mIn [5], line 83\u001B[0m\n\u001B[1;32m     80\u001B[0m     simulator\u001B[38;5;241m.\u001B[39mAdvanceTo(simulation_time)\n\u001B[1;32m     82\u001B[0m \u001B[38;5;28;01mif\u001B[39;00m \u001B[38;5;18m__name__\u001B[39m \u001B[38;5;241m==\u001B[39m \u001B[38;5;124m\"\u001B[39m\u001B[38;5;124m__main__\u001B[39m\u001B[38;5;124m\"\u001B[39m:\n\u001B[0;32m---> 83\u001B[0m     \u001B[43mcontroller\u001B[49m\u001B[43m(\u001B[49m\u001B[43m)\u001B[49m\n",
      "Cell \u001B[0;32mIn [5], line 73\u001B[0m, in \u001B[0;36mcontroller\u001B[0;34m()\u001B[0m\n\u001B[1;32m     70\u001B[0m positions[\u001B[38;5;241m1\u001B[39m] \u001B[38;5;241m=\u001B[39m [\u001B[38;5;241m0\u001B[39m, \u001B[38;5;241m20\u001B[39m]\n\u001B[1;32m     71\u001B[0m positions[\u001B[38;5;241m2\u001B[39m] \u001B[38;5;241m=\u001B[39m [\u001B[38;5;241m0\u001B[39m, \u001B[38;5;241m30\u001B[39m]\n\u001B[0;32m---> 73\u001B[0m \u001B[43mplant\u001B[49m\u001B[38;5;241;43m.\u001B[39;49m\u001B[43mSetPositions\u001B[49m\u001B[43m(\u001B[49m\u001B[43mplant_context\u001B[49m\u001B[43m,\u001B[49m\u001B[43m \u001B[49m\u001B[43mpositions\u001B[49m\u001B[43m)\u001B[49m\n\u001B[1;32m     75\u001B[0m simulator \u001B[38;5;241m=\u001B[39m Simulator(diagram)\n\u001B[1;32m     76\u001B[0m simulator\u001B[38;5;241m.\u001B[39mInitialize()\n",
      "\u001B[0;31mTypeError\u001B[0m: SetPositions(): incompatible function arguments. The following argument types are supported:\n    1. (self: pydrake.multibody.plant.MultibodyPlant_[float], context: pydrake.systems.framework.Context_[float], q: numpy.ndarray[numpy.float64[m, 1]]) -> None\n    2. (self: pydrake.multibody.plant.MultibodyPlant_[float], context: pydrake.systems.framework.Context_[float], model_instance: pydrake.multibody.tree.ModelInstanceIndex, q: numpy.ndarray[numpy.float64[m, 1]]) -> None\n\nInvoked with: <pydrake.multibody.plant.MultibodyPlant_[float] object at 0x15fbd9230>, <pydrake.systems.framework.LeafContext_[float] object at 0x1609f70b0>, array([[ 0., 10.],\n       [ 0., 20.],\n       [ 0., 30.]])"
     ]
    }
   ],
   "source": [
    "import pydot\n",
    "from IPython.core.display import SVG\n",
    "from IPython.core.display_functions import display\n",
    "from pydrake.all import Simulator, DiagramBuilder, AddMultibodyPlantSceneGraph,\\\n",
    "                        Parser, RigidTransform, MeshcatVisualizer, MeshcatVisualizerParams, \\\n",
    "                        ConstantVectorSource, ConstantValueSource, PiecewisePolynomial,\\\n",
    "                        AbstractValue, HalfSpace, CoulombFriction, SceneGraph, MultibodyPlant, AutoDiffXd, StartMeshcat\n",
    "from pydrake.systems.controllers import PidController\n",
    "import numpy as np\n",
    "\n",
    "target_realtime_rate = 1.0\n",
    "simulation_time = 10\n",
    "max_time_step = 10e-3\n",
    "Kp_ = 10.0\n",
    "Ki_ = 20.0\n",
    "Kd_ = 30.0\n",
    "\n",
    "def controller():\n",
    "\n",
    "    meshcat = StartMeshcat()\n",
    "\n",
    "    builder = DiagramBuilder()\n",
    "    plant, scene_graph = AddMultibodyPlantSceneGraph(builder, max_time_step)\n",
    "    parser = Parser(plant)\n",
    "    parser.AddModelFromFile(\"arm.urdf\")\n",
    "    plant.WeldFrames(\n",
    "        plant.world_frame(),\n",
    "        plant.GetBodyByName(\"base_z\").body_frame(),\n",
    "        RigidTransform.Identity()\n",
    "    )\n",
    "    plant.AddJointActuator(\"base\", plant.GetJointByName(\"base\"))\n",
    "    plant.AddJointActuator(\"shoulder\", plant.GetJointByName(\"shoulder\"))\n",
    "    plant.AddJointActuator(\"elbow\", plant.GetJointByName(\"elbow\"))\n",
    "\n",
    "    plant.Finalize()\n",
    "\n",
    "    Kp = np.ones(plant.num_positions()) * Kp_\n",
    "    Ki = np.ones(plant.num_positions()) * Ki_\n",
    "    Kd = np.ones(plant.num_positions()) * Kd_\n",
    "\n",
    "    pid = builder.AddSystem(PidController(Kp, Ki, Kd))\n",
    "\n",
    "    builder.Connect(plant.get_state_output_port(), pid.get_input_port_estimated_state())\n",
    "\n",
    "    builder.Connect(pid.get_output_port_control(), plant.get_actuation_input_port())\n",
    "\n",
    "    desired_base_source = builder.AddSystem(ConstantVectorSource(np.zeros(plant.num_multibody_states())))\n",
    "    builder.Connect(desired_base_source.get_output_port(), pid.get_input_port_desired_state())\n",
    "\n",
    "\n",
    "    # Handled by pydrake\n",
    "    # id = plant.get_source_id()\n",
    "    #\n",
    "    # builder.Connect(plant.get_geometry_poses_output_port(), scene_graph.get_source_pose_port(id))\n",
    "    # builder.Connect(scene_graph.get_query_output_port(), plant.get_geometry_query_input_port())\n",
    "\n",
    "    vis_params = MeshcatVisualizerParams(publish_period=0.1)\n",
    "    MeshcatVisualizer.AddToBuilder(builder, scene_graph, meshcat, params=vis_params)\n",
    "\n",
    "    diagram = builder.Build()\n",
    "    display(SVG(pydot.graph_from_dot_data(\n",
    "        diagram.GetGraphvizString(max_depth=2))[0].create_svg()))\n",
    "    diagram_context = diagram.CreateDefaultContext()\n",
    "\n",
    "    plant_context = diagram.GetMutableSubsystemContext(plant, diagram_context)\n",
    "\n",
    "    positions = np.zeros((plant.num_positions(), 2))\n",
    "\n",
    "    positions[0] = [0, 10]\n",
    "    positions[1] = [0, 20]\n",
    "    positions[2] = [0, 30]\n",
    "\n",
    "    plant.SetPositions(plant_context, positions)\n",
    "\n",
    "    simulator = Simulator(diagram)\n",
    "    simulator.Initialize()\n",
    "    simulator.set_target_realtime_rate(target_realtime_rate)\n",
    "    simulator.set_publish_every_time_step(True)\n",
    "\n",
    "    simulator.AdvanceTo(simulation_time)\n",
    "\n",
    "if __name__ == \"__main__\":\n",
    "    controller()\n"
   ],
   "metadata": {
    "collapsed": false
   }
  }
 ],
 "metadata": {
  "kernelspec": {
   "display_name": "Python 3",
   "language": "python",
   "name": "python3"
  },
  "language_info": {
   "codemirror_mode": {
    "name": "ipython",
    "version": 2
   },
   "file_extension": ".py",
   "mimetype": "text/x-python",
   "name": "python",
   "nbconvert_exporter": "python",
   "pygments_lexer": "ipython2",
   "version": "2.7.6"
  }
 },
 "nbformat": 4,
 "nbformat_minor": 0
}
